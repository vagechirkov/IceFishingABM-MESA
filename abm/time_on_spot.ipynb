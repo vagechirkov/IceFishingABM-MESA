{
 "cells": [
  {
   "cell_type": "code",
   "execution_count": null,
   "id": "initial_id",
   "metadata": {},
   "outputs": [],
   "source": [
    "from exploitation_strategy import IceFishingExploitationStrategy\n",
    "import numpy as np\n",
    "import seaborn as sns\n",
    "import pandas as pd\n",
    "import matplotlib.pylab as plt"
   ]
  },
  {
   "cell_type": "code",
   "execution_count": null,
   "id": "dfd0c484",
   "metadata": {},
   "outputs": [],
   "source": [
    "def simulate_spot_leaving(is_spot_successful=0):\n",
    "    strategy = IceFishingExploitationStrategy(\n",
    "                    baseline_weight=-3,\n",
    "                    fish_catch_weight=-1.72,\n",
    "                    time_weight=0.13,\n",
    "                    social_feature_weight=0,\n",
    "                    step_minutes=1/6\n",
    "                )\n",
    "    t_total = 0\n",
    "    t_since_last_catch = 0\n",
    "    stay = True\n",
    "    \n",
    "    while stay:\n",
    "        t_total += 1\n",
    "        t_since_last_catch += 1\n",
    "        if not strategy.stay_on_patch(t_since_last_catch, is_spot_successful):\n",
    "            stay = False\n",
    "        \n",
    "        # catch fish every 2 minutes\n",
    "        if is_spot_successful and t_since_last_catch == 10*6:\n",
    "            t_since_last_catch = 0\n",
    "            \n",
    "    return t_total"
   ]
  },
  {
   "cell_type": "code",
   "execution_count": null,
   "id": "43f1b831",
   "metadata": {},
   "outputs": [],
   "source": [
    "time_unsuccessful_spots = [simulate_spot_leaving()*10 for _ in range(10000)]\n",
    "time_successful_spots = [simulate_spot_leaving(is_spot_successful=1)*10 for _ in range(10000)]"
   ]
  },
  {
   "cell_type": "code",
   "execution_count": null,
   "id": "b780df20",
   "metadata": {},
   "outputs": [],
   "source": [
    "df = pd.DataFrame({\n",
    "    \"Angling Time spots (s)\": time_unsuccessful_spots+time_successful_spots,\n",
    "    \"Is spot successful\": ['No' for _ in range(10_000)] + ['Yes' for _ in range(10_000)]\n",
    "})"
   ]
  },
  {
   "cell_type": "code",
   "execution_count": null,
   "id": "36628669",
   "metadata": {},
   "outputs": [],
   "source": [
    "%matplotlib inline  \n",
    "sns.catplot(\n",
    "    data=df,\n",
    "    #kind=\"boxen\",\n",
    "    kind=\"point\",\n",
    "    errorbar=\"sd\",\n",
    "    y=\"Angling Time spots (s)\",\n",
    "    x=\"Is spot successful\",\n",
    "    hue=\"Is spot successful\",\n",
    "    height=4\n",
    ")\n",
    "\n",
    "\n",
    "\n",
    "plt.show()"
   ]
  },
  {
   "cell_type": "code",
   "execution_count": null,
   "id": "4acada81",
   "metadata": {},
   "outputs": [],
   "source": []
  }
 ],
 "metadata": {
  "kernelspec": {
   "display_name": "Ice fishing ABM",
   "language": "python",
   "name": "ice_fishing_abm"
  },
  "language_info": {
   "codemirror_mode": {
    "name": "ipython",
    "version": 3
   },
   "file_extension": ".py",
   "mimetype": "text/x-python",
   "name": "python",
   "nbconvert_exporter": "python",
   "pygments_lexer": "ipython3",
   "version": "3.11.11"
  }
 },
 "nbformat": 4,
 "nbformat_minor": 5
}
